{
  "nbformat": 4,
  "nbformat_minor": 0,
  "metadata": {
    "colab": {
      "provenance": []
    },
    "kernelspec": {
      "name": "python3",
      "display_name": "Python 3"
    },
    "language_info": {
      "name": "python"
    }
  },
  "cells": [
    {
      "cell_type": "code",
      "source": [
        "import pandas as pd\n",
        "import numpy as np\n",
        "import matplotlib.pyplot as plt\n",
        "import seaborn as sns\n",
        "\n",
        "# Load the cleaned dataset\n",
        "file_path = \"NPRI_cleaned_releases.csv\"\n",
        "df = pd.read_csv(file_path)\n",
        "\n",
        "# Rename the time column\n",
        "df.rename(columns={\"Reporting_Year / Année\": \"Year\"}, inplace=True)\n",
        "\n",
        "# Display dataset info\n",
        "print(df.info())\n",
        "print(df.head())"
      ],
      "metadata": {
        "colab": {
          "base_uri": "https://localhost:8080/"
        },
        "id": "iSQ6Jw6-AKLo",
        "outputId": "dcc3181b-6a5a-430e-fda9-3f74ce087fb6"
      },
      "execution_count": 3,
      "outputs": [
        {
          "output_type": "stream",
          "name": "stdout",
          "text": [
            "<class 'pandas.core.frame.DataFrame'>\n",
            "RangeIndex: 737516 entries, 0 to 737515\n",
            "Data columns (total 21 columns):\n",
            " #   Column                                                 Non-Null Count   Dtype  \n",
            "---  ------                                                 --------------   -----  \n",
            " 0   Year                                                   737516 non-null  int64  \n",
            " 1   NAICS / Code_SCIAN                                     737516 non-null  float64\n",
            " 2   PROVINCE                                               737516 non-null  object \n",
            " 3   Latitude                                               737516 non-null  float64\n",
            " 4   Longitude                                              737516 non-null  float64\n",
            " 5   Substance Name (English) / Nom de substance (Anglais)  737516 non-null  object \n",
            " 6   Units / Unités                                         737516 non-null  object \n",
            " 7   Estimation_Method / Méthode_d’estimation               737516 non-null  object \n",
            " 8   Release to Air - Fugitive                              737516 non-null  float64\n",
            " 9   Release to Air - Other Non-Point                       737516 non-null  float64\n",
            " 10  Release to Air - Road dust                             737516 non-null  float64\n",
            " 11  Release to Air - Spills                                737516 non-null  float64\n",
            " 12  Release to Air - Stack / Point                         737516 non-null  float64\n",
            " 13  Release to Air - Storage / Handling                    737516 non-null  float64\n",
            " 14  Releases to Land - Leaks                               737516 non-null  float64\n",
            " 15  Releases to Land - Other                               737516 non-null  float64\n",
            " 16  Releases to Land - Spills                              737516 non-null  float64\n",
            " 17  Releases to Water Bodies - Direct Discharges           737516 non-null  float64\n",
            " 18  Releases to Water Bodies - Leaks                       737516 non-null  float64\n",
            " 19  Releases to Water Bodies - Spills                      737516 non-null  float64\n",
            " 20  Sum of release to all media (<1tonne)                  737516 non-null  float64\n",
            "dtypes: float64(16), int64(1), object(4)\n",
            "memory usage: 118.2+ MB\n",
            "None\n",
            "   Year  NAICS / Code_SCIAN PROVINCE   Latitude   Longitude  \\\n",
            "0  2000            322112.0       AB  54.923116 -112.861867   \n",
            "1  2000            322112.0       AB  54.923116 -112.861867   \n",
            "2  2000            322112.0       AB  54.923116 -112.861867   \n",
            "3  2000            322112.0       AB  54.923116 -112.861867   \n",
            "4  2000            322112.0       AB  54.923116 -112.861867   \n",
            "\n",
            "  Substance Name (English) / Nom de substance (Anglais) Units / Unités  \\\n",
            "0                                   Chlorine dioxide            tonnes   \n",
            "1                                           Methanol            tonnes   \n",
            "2                                         Chloroform            tonnes   \n",
            "3                                       Acetaldehyde            tonnes   \n",
            "4                                  Hydrochloric acid            tonnes   \n",
            "\n",
            "  Estimation_Method / Méthode_d’estimation  Release to Air - Fugitive  \\\n",
            "0     M - Monitoring or Direct Measurement                      0.796   \n",
            "1                      E - Emission Factor                      0.796   \n",
            "2     M - Monitoring or Direct Measurement                      0.796   \n",
            "3                      E - Emission Factor                      0.796   \n",
            "4     M - Monitoring or Direct Measurement                      0.796   \n",
            "\n",
            "   Release to Air - Other Non-Point   ...  Release to Air - Spills   \\\n",
            "0                               0.49  ...                    0.0003   \n",
            "1                               0.49  ...                    0.0003   \n",
            "2                               0.49  ...                    0.0003   \n",
            "3                               0.49  ...                    0.0003   \n",
            "4                               0.49  ...                    0.0003   \n",
            "\n",
            "   Release to Air - Stack / Point    Release to Air - Storage / Handling   \\\n",
            "0                          5.200000                                 0.358   \n",
            "1                          4.037595                                 0.358   \n",
            "2                          4.037595                                 0.358   \n",
            "3                          7.670000                                 0.358   \n",
            "4                          0.665000                                 0.358   \n",
            "\n",
            "   Releases to Land - Leaks  Releases to Land - Other   \\\n",
            "0                       0.0                        5.0   \n",
            "1                       0.0                        5.0   \n",
            "2                       0.0                        5.0   \n",
            "3                       0.0                        5.0   \n",
            "4                       0.0                        5.0   \n",
            "\n",
            "   Releases to Land - Spills   Releases to Water Bodies - Direct Discharges   \\\n",
            "0                       0.002                                          2.068   \n",
            "1                       0.002                                          2.068   \n",
            "2                       0.002                                          2.068   \n",
            "3                       0.002                                          2.068   \n",
            "4                       0.002                                          2.068   \n",
            "\n",
            "   Releases to Water Bodies - Leaks  Releases to Water Bodies - Spills   \\\n",
            "0                               0.0                              0.0879   \n",
            "1                               0.0                              0.0879   \n",
            "2                               0.0                              0.0879   \n",
            "3                               0.0                              0.0879   \n",
            "4                               0.0                              0.0879   \n",
            "\n",
            "   Sum of release to all media (<1tonne)  \n",
            "0                                 0.0237  \n",
            "1                                 0.0237  \n",
            "2                                 0.0237  \n",
            "3                                 0.0237  \n",
            "4                                 0.0237  \n",
            "\n",
            "[5 rows x 21 columns]\n"
          ]
        }
      ]
    },
    {
      "cell_type": "code",
      "source": [
        "# Select relevant emission columns\n",
        "# Updated column names to match the actual columns in the dataframe\n",
        "emission_columns = [\n",
        "    \"Release to Air - Fugitive\",\n",
        "    \"Releases to Air - Other Non-Point\", # Corrected column name\n",
        "    \"Releases to Air - Road Dust\",      # Corrected column name\n",
        "    \"Releases to Air - Spills\",         # Corrected column name\n",
        "    \"Releases to Air - Stack / Point\",  # Corrected column name\n",
        "    \"Releases to Air - Storage / Handling\", # Corrected column name\n",
        "    \"Releases to Land - Leaks\",         # Corrected column name\n",
        "    \"Releases to Land - Other\",         # Corrected column name\n",
        "    \"Releases to Land - Spills\",         # Corrected column name\n",
        "    \"Releases to Water Bodies - Direct Discharge\", # Corrected column name\n",
        "    \"Releases to Water Bodies - Leaks\",         # Corrected column name\n",
        "    \"Releases to Water Bodies - Spills\"         # Corrected column name\n",
        "]\n",
        "\n",
        "# Print the actual column names in the dataframe for verification\n",
        "print(df.columns)\n",
        "\n",
        "# Calculate total emissions per record\n",
        "# Use a loop to handle potential missing columns\n",
        "df[\"Total_Emissions\"] = 0  # Initialize the column\n",
        "for column in emission_columns:\n",
        "    if column in df.columns:  # Check if the column exists\n",
        "        df[\"Total_Emissions\"] += df[column]  # Add to total if it exists\n",
        "    else:\n",
        "        print(f\"Warning: Column '{column}' not found in dataframe.\")\n",
        "\n",
        "# Group by year to create a time series dataset\n",
        "df_time_series = df.groupby(\"Year\")[\"Total_Emissions\"].sum().reset_index()\n",
        "\n",
        "# Display the transformed time series dataset\n",
        "print(df_time_series.head())\n",
        "\n",
        "# Plot emissions over time\n",
        "plt.figure(figsize=(10, 5))\n",
        "sns.lineplot(x=df_time_series[\"Year\"], y=df_time_series[\"Total_Emissions\"], marker=\"o\")\n",
        "plt.xlabel(\"Year\")\n",
        "plt.ylabel(\"Total Emissions (tonnes)\")\n",
        "plt.title(\"Total Emissions Over Time\")\n",
        "plt.show()"
      ],
      "metadata": {
        "colab": {
          "base_uri": "https://localhost:8080/",
          "height": 973
        },
        "id": "hew8jNvgBKim",
        "outputId": "43b18bc9-ca36-4a55-a443-38eae5dc469a"
      },
      "execution_count": 6,
      "outputs": [
        {
          "output_type": "stream",
          "name": "stdout",
          "text": [
            "Index(['Year', 'NAICS / Code_SCIAN', 'PROVINCE', 'Latitude', 'Longitude',\n",
            "       'Substance Name (English) / Nom de substance (Anglais)',\n",
            "       'Units / Unités', 'Estimation_Method / Méthode_d’estimation',\n",
            "       'Release to Air - Fugitive', 'Release to Air - Other Non-Point ',\n",
            "       'Release to Air - Road dust  ', 'Release to Air - Spills ',\n",
            "       'Release to Air - Stack / Point  ',\n",
            "       'Release to Air - Storage / Handling ', 'Releases to Land - Leaks',\n",
            "       'Releases to Land - Other ', 'Releases to Land - Spills ',\n",
            "       'Releases to Water Bodies - Direct Discharges ',\n",
            "       'Releases to Water Bodies - Leaks',\n",
            "       'Releases to Water Bodies - Spills ',\n",
            "       'Sum of release to all media (<1tonne)'],\n",
            "      dtype='object')\n",
            "Warning: Column 'Releases to Air - Other Non-Point' not found in dataframe.\n",
            "Warning: Column 'Releases to Air - Road Dust' not found in dataframe.\n",
            "Warning: Column 'Releases to Air - Spills' not found in dataframe.\n",
            "Warning: Column 'Releases to Air - Stack / Point' not found in dataframe.\n",
            "Warning: Column 'Releases to Air - Storage / Handling' not found in dataframe.\n",
            "Warning: Column 'Releases to Land - Other' not found in dataframe.\n",
            "Warning: Column 'Releases to Land - Spills' not found in dataframe.\n",
            "Warning: Column 'Releases to Water Bodies - Direct Discharge' not found in dataframe.\n",
            "Warning: Column 'Releases to Water Bodies - Spills' not found in dataframe.\n",
            "   Year  Total_Emissions\n",
            "0  2000         7390.860\n",
            "1  2001         8557.796\n",
            "2  2002        18998.132\n",
            "3  2003        25953.580\n",
            "4  2004        26672.368\n"
          ]
        },
        {
          "output_type": "display_data",
          "data": {
            "text/plain": [
              "<Figure size 1000x500 with 1 Axes>"
            ],
            "image/png": "[encoded data removed]"
          },
          "metadata": {}
        }
      ]
    },
    {
      "cell_type": "code",
      "source": [
        "# Define emission categories based on quartiles\n",
        "def classify_emission(value):\n",
        "    if value > df_time_series[\"Total_Emissions\"].quantile(0.75):\n",
        "        return \"High\"\n",
        "    elif value > df_time_series[\"Total_Emissions\"].quantile(0.25):\n",
        "        return \"Medium\"\n",
        "    else:\n",
        "        return \"Low\"\n",
        "\n",
        "# Apply classification\n",
        "df_time_series[\"Emission_Category\"] = df_time_series[\"Total_Emissions\"].apply(classify_emission)\n",
        "\n",
        "# Check distribution\n",
        "print(df_time_series[\"Emission_Category\"].value_counts())\n",
        "\n",
        "# Visualize category distribution\n",
        "sns.countplot(x=df_time_series[\"Emission_Category\"])\n",
        "plt.title(\"Emission Category Distribution\")\n",
        "plt.show()"
      ],
      "metadata": {
        "colab": {
          "base_uri": "https://localhost:8080/",
          "height": 559
        },
        "id": "pb4uxVPkCNrU",
        "outputId": "573bfe61-0775-48c7-dc40-e91725933c2f"
      },
      "execution_count": 7,
      "outputs": [
        {
          "output_type": "stream",
          "name": "stdout",
          "text": [
            "Emission_Category\n",
            "Medium    11\n",
            "Low        6\n",
            "High       6\n",
            "Name: count, dtype: int64\n"
          ]
        },
        {
          "output_type": "display_data",
          "data": {
            "text/plain": [
              "<Figure size 640x480 with 1 Axes>"
            ],
            "image/png": "[encoded data removed]"
          },
          "metadata": {}
        }
      ]
    },
    {
      "cell_type": "code",
      "source": [
        "from sklearn.model_selection import train_test_split\n",
        "from sklearn.preprocessing import StandardScaler\n",
        "\n",
        "# Define features and labels\n",
        "X = df_time_series.drop(columns=[\"Emission_Category\", \"Year\"])\n",
        "y = df_time_series[\"Emission_Category\"]\n",
        "\n",
        "# Normalize the features\n",
        "scaler = StandardScaler()\n",
        "X_scaled = scaler.fit_transform(X)\n",
        "\n",
        "# Split dataset into training and testing sets\n",
        "X_train, X_test, y_train, y_test = train_test_split(X_scaled, y, test_size=0.2, random_state=42)\n",
        "\n",
        "print(f\"Training size: {len(X_train)}, Test size: {len(X_test)}\")"
      ],
      "metadata": {
        "colab": {
          "base_uri": "https://localhost:8080/"
        },
        "id": "zJqlZoVrCRQ2",
        "outputId": "381587d0-a137-4513-9734-501cb5aeaf23"
      },
      "execution_count": 8,
      "outputs": [
        {
          "output_type": "stream",
          "name": "stdout",
          "text": [
            "Training size: 18, Test size: 5\n"
          ]
        }
      ]
    },
    {
      "cell_type": "code",
      "source": [
        "from sklearn.ensemble import RandomForestClassifier\n",
        "from sklearn.metrics import classification_report, accuracy_score\n",
        "\n",
        "# Initialize and train model\n",
        "model = RandomForestClassifier(n_estimators=100, random_state=42)\n",
        "model.fit(X_train, y_train)\n",
        "\n",
        "# Predict on test set\n",
        "y_pred = model.predict(X_test)\n",
        "\n",
        "# Evaluate performance\n",
        "print(\"Classification Report:\\n\", classification_report(y_test, y_pred))\n",
        "print(\"Accuracy Score:\", accuracy_score(y_test, y_pred))"
      ],
      "metadata": {
        "colab": {
          "base_uri": "https://localhost:8080/"
        },
        "id": "4wafiB3SCUdS",
        "outputId": "f1b3285e-65ee-4f45-8b0e-5b7aeb788b02"
      },
      "execution_count": 9,
      "outputs": [
        {
          "output_type": "stream",
          "name": "stdout",
          "text": [
            "Classification Report:\n",
            "               precision    recall  f1-score   support\n",
            "\n",
            "         Low       0.67      1.00      0.80         2\n",
            "      Medium       1.00      0.67      0.80         3\n",
            "\n",
            "    accuracy                           0.80         5\n",
            "   macro avg       0.83      0.83      0.80         5\n",
            "weighted avg       0.87      0.80      0.80         5\n",
            "\n",
            "Accuracy Score: 0.8\n"
          ]
        }
      ]
    },
    {
      "cell_type": "code",
      "source": [
        "# Save processed data with labels\n",
        "df_time_series.to_csv(\"processed_emission_data.csv\", index=False)\n",
        "\n",
        "# Save the trained model (optional)\n",
        "import joblib\n",
        "joblib.dump(model, \"emission_classification_model.pkl\")"
      ],
      "metadata": {
        "id": "DvFBN_WKCXoL",
        "outputId": "86a0f02e-1112-4bb4-e5d2-4acbb97f3af6",
        "colab": {
          "base_uri": "https://localhost:8080/"
        }
      },
      "execution_count": 10,
      "outputs": [
        {
          "output_type": "execute_result",
          "data": {
            "text/plain": [
              "['emission_classification_model.pkl']"
            ]
          },
          "metadata": {},
          "execution_count": 10
        }
      ]
    }
  ]
}